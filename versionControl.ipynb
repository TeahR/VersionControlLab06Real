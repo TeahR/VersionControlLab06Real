{
 "cells": [
  {
   "cell_type": "code",
   "execution_count": 1,
   "id": "2849e747-aa18-4426-b394-4eb78f529f05",
   "metadata": {},
   "outputs": [
    {
     "name": "stdin",
     "output_type": "stream",
     "text": [
      "What's your name?  jose\n",
      "What's your last name?  desantiago\n",
      "Enter a number:  4\n",
      "Enter another number:  5\n"
     ]
    },
    {
     "name": "stdout",
     "output_type": "stream",
     "text": [
      "Hey jose desantiago, the sum of your numbers is 9.0!\n"
     ]
    }
   ],
   "source": [
    "name = input(\"What's your name? \")\n",
    "lastName = input(\"What's your last name? \")\n",
    "num1 = float(input(\"Enter a number: \"))\n",
    "num2 = float(input(\"Enter another number: \"))\n",
    "\n",
    "result = num1 + num2\n",
    "print(f\"Hey {name} {lastName}, the sum of your numbers is {result}!\")\n"
   ]
  },
  {
   "cell_type": "code",
   "execution_count": null,
   "id": "c5baa6b0-8c73-48f3-bf3e-64b01d986140",
   "metadata": {},
   "outputs": [],
   "source": []
  }
 ],
 "metadata": {
  "kernelspec": {
   "display_name": "Python 3 (ipykernel)",
   "language": "python",
   "name": "python3"
  },
  "language_info": {
   "codemirror_mode": {
    "name": "ipython",
    "version": 3
   },
   "file_extension": ".py",
   "mimetype": "text/x-python",
   "name": "python",
   "nbconvert_exporter": "python",
   "pygments_lexer": "ipython3",
   "version": "3.11.13"
  }
 },
 "nbformat": 4,
 "nbformat_minor": 5
}
